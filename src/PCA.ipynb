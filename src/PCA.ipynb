{
 "cells": [
  {
   "cell_type": "code",
   "execution_count": null,
   "metadata": {},
   "outputs": [],
   "source": [
    "from glob import iglob\n",
    "from sklearn.decomposition import PCA\n",
    "from sklearn.preprocessing import normalize\n",
    "import scipy.io as sio\n",
    "import matplotlib.image as image\n",
    "import pandas as pd\n",
    "import matplotlib.pyplot as plt\n",
    "\n",
    "\n",
    "import pandas as pd\n",
    "from sklearn.decomposition import PCA\n",
    "import numpy as np\n",
    "from cv2 import imread\n",
    "import matplotlib.pyplot as plt\n",
    "\n",
    "#Normalize data by subtracting mean and scaling\n",
    "\n",
    "#Run PCA on normalized image data\n",
    "\n",
    "path='dataset_400/train/'\n",
    "\n",
    "for path in iglob('*/*.png'):\n",
    "\timg=imread(path)\n",
    "\timg = pd.Series(img.flatten(),name=path)\n",
    "\timg = faces.append(img)\n",
    "\tX_norm = normalize(img)\n",
    "\tpca = PCA(.99)\n",
    "\tlower_dimension_data = pca.fit_transform(X_norm)\n"
   ]
  },
  {
   "cell_type": "code",
   "execution_count": null,
   "metadata": {},
   "outputs": [],
   "source": []
  }
 ],
 "metadata": {
  "kernelspec": {
   "display_name": "Python 3",
   "language": "python",
   "name": "python3"
  },
  "language_info": {
   "codemirror_mode": {
    "name": "ipython",
    "version": 3
   },
   "file_extension": ".py",
   "mimetype": "text/x-python",
   "name": "python",
   "nbconvert_exporter": "python",
   "pygments_lexer": "ipython3",
   "version": "3.7.7"
  }
 },
 "nbformat": 4,
 "nbformat_minor": 4
}
